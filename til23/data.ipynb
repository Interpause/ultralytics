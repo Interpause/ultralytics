{
 "cells": [
  {
   "attachments": {},
   "cell_type": "markdown",
   "metadata": {},
   "source": [
    "## Data Exploration & Wrangling\n"
   ]
  },
  {
   "cell_type": "code",
   "execution_count": null,
   "metadata": {},
   "outputs": [],
   "source": [
    "%pip install fiftyone imagehash\n",
    "%pip uninstall fiftyone-db -y\n",
    "%pip install fiftyone-db-ubuntu2204 --force-reinstall"
   ]
  },
  {
   "cell_type": "code",
   "execution_count": 1,
   "metadata": {},
   "outputs": [],
   "source": [
    "import fiftyone as fo\n",
    "from fiftyone import ViewField as F\n",
    "from PIL import Image\n",
    "import imagehash\n",
    "from tqdm import tqdm"
   ]
  },
  {
   "attachments": {},
   "cell_type": "markdown",
   "metadata": {},
   "source": [
    "### Load Dataset\n"
   ]
  },
  {
   "cell_type": "code",
   "execution_count": 19,
   "metadata": {},
   "outputs": [
    {
     "name": "stdout",
     "output_type": "stream",
     "text": [
      " 100% |███████████████| 5664/5664 [5.8s elapsed, 0s remaining, 968.7 samples/s]      \n",
      " 100% |█████████████████| 800/800 [850.2ms elapsed, 0s remaining, 943.5 samples/s]      \n",
      " 100% |███████████████| 1600/1600 [168.2ms elapsed, 0s remaining, 9.5K samples/s]     \n"
     ]
    },
    {
     "name": "stderr",
     "output_type": "stream",
     "text": [
      "100%|██████████| 8064/8064 [02:33<00:00, 52.47it/s]"
     ]
    },
    {
     "name": "stdout",
     "output_type": "stream",
     "text": [
      "Name:        til23plush\n",
      "Media type:  image\n",
      "Num samples: 8064\n",
      "Persistent:  True\n",
      "Tags:        []\n",
      "Sample fields:\n",
      "    id:           fiftyone.core.fields.ObjectIdField\n",
      "    filepath:     fiftyone.core.fields.StringField\n",
      "    tags:         fiftyone.core.fields.ListField(fiftyone.core.fields.StringField)\n",
      "    metadata:     fiftyone.core.fields.EmbeddedDocumentField(fiftyone.core.metadata.ImageMetadata)\n",
      "    ground_truth: fiftyone.core.fields.EmbeddedDocumentField(fiftyone.core.labels.Detections)\n",
      "    phash:        fiftyone.core.fields.StringField\n"
     ]
    },
    {
     "name": "stderr",
     "output_type": "stream",
     "text": [
      "\n"
     ]
    }
   ],
   "source": [
    "name = \"til23plush\"\n",
    "dataset_dir = \"/home/jh/code/til/data/til23plush\"\n",
    "splits = \"train\", \"val\", \"test\"\n",
    "\n",
    "# Uncomment to recache dataset\n",
    "# fo.delete_dataset(name)\n",
    "if name in fo.list_datasets():\n",
    "    ds = fo.load_dataset(name)\n",
    "else:\n",
    "    ds = fo.Dataset(name=name, persistent=True)\n",
    "    for split in splits:\n",
    "        ds.add_dir(\n",
    "            dataset_dir=dataset_dir,\n",
    "            dataset_type=fo.types.YOLOv5Dataset,\n",
    "            include_all_data=True,\n",
    "            split=split,\n",
    "            tags=split,\n",
    "        )\n",
    "\n",
    "    # Add Perceptual Hashes for Dupe Detection later\n",
    "    # Due to multiple false positives, perceptual hash chosen is closer to cryptographic\n",
    "    for sample in tqdm(ds):\n",
    "        sample[\"phash\"] = str(imagehash.dhash(Image.open(sample.filepath)))\n",
    "        sample.save()\n",
    "\n",
    "\n",
    "print(ds)"
   ]
  },
  {
   "attachments": {},
   "cell_type": "markdown",
   "metadata": {},
   "source": [
    "### Relabel\n"
   ]
  },
  {
   "cell_type": "code",
   "execution_count": 20,
   "metadata": {},
   "outputs": [],
   "source": [
    "view = ds.set_field(\n",
    "    \"ground_truth.detections\", F(\"detections\").map(F().set_field(\"label\", \"plushie\"))\n",
    ")"
   ]
  },
  {
   "attachments": {},
   "cell_type": "markdown",
   "metadata": {},
   "source": [
    "### Export\n"
   ]
  },
  {
   "cell_type": "code",
   "execution_count": 4,
   "metadata": {},
   "outputs": [
    {
     "name": "stdout",
     "output_type": "stream",
     "text": [
      " 100% |███████████████| 5664/5664 [3.8s elapsed, 0s remaining, 1.6K samples/s]        \n",
      " 100% |█████████████████| 800/800 [546.6ms elapsed, 0s remaining, 1.5K samples/s]      \n"
     ]
    }
   ],
   "source": [
    "# See: https://docs.voxel51.com/api/fiftyone.utils.yolo.html#fiftyone.utils.yolo.YOLOv5DatasetExporter\n",
    "splits = \"train\", \"val\"\n",
    "config = dict(\n",
    "    export_dir=\"/home/jh/code/til/data/til23plushonly\",\n",
    "    dataset_type=fo.types.YOLOv5Dataset,\n",
    "    label_field=\"ground_truth\",\n",
    "    export_media=\"symlink\",\n",
    "    include_path=False,\n",
    ")\n",
    "\n",
    "for split in splits:\n",
    "    v = view.filter_field(\"tags\", F().contains([split]))\n",
    "    v.export(split=split, **config)"
   ]
  },
  {
   "attachments": {},
   "cell_type": "markdown",
   "metadata": {},
   "source": [
    "### Dupe Detection"
   ]
  },
  {
   "cell_type": "code",
   "execution_count": 25,
   "metadata": {},
   "outputs": [],
   "source": [
    "# Filter view to only show images where `phash` has more than 1 instance\n",
    "counts = filter(lambda i: i[1] > 1, view.count_values(\"phash\").items())\n",
    "counts = [k for k, v in counts]\n",
    "dupes = view.filter_field(\"phash\", F().is_in(counts)).filter_field(\n",
    "    \"tags\", F().contains([\"train\", \"val\"])\n",
    ")"
   ]
  },
  {
   "attachments": {},
   "cell_type": "markdown",
   "metadata": {},
   "source": [
    "### Preview\n"
   ]
  },
  {
   "cell_type": "code",
   "execution_count": null,
   "metadata": {},
   "outputs": [],
   "source": [
    "fo.launch_app(dataset=dupes)"
   ]
  },
  {
   "cell_type": "code",
   "execution_count": null,
   "metadata": {},
   "outputs": [],
   "source": []
  }
 ],
 "metadata": {
  "kernelspec": {
   "display_name": "til",
   "language": "python",
   "name": "python3"
  },
  "language_info": {
   "codemirror_mode": {
    "name": "ipython",
    "version": 3
   },
   "file_extension": ".py",
   "mimetype": "text/x-python",
   "name": "python",
   "nbconvert_exporter": "python",
   "pygments_lexer": "ipython3",
   "version": "3.11.3"
  },
  "orig_nbformat": 4
 },
 "nbformat": 4,
 "nbformat_minor": 2
}
